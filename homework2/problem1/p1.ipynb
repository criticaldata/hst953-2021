{
  "nbformat": 4,
  "nbformat_minor": 0,
  "metadata": {
    "colab": {
      "name": "pset2_p1.ipynb",
      "private_outputs": true,
      "provenance": [],
      "collapsed_sections": []
    },
    "kernelspec": {
      "name": "python3",
      "display_name": "Python 3"
    },
    "language_info": {
      "name": "python"
    }
  },
  "cells": [
    {
      "cell_type": "code",
      "metadata": {
        "id": "a9j60f3KrfsG"
      },
      "source": [
        "from google.colab import auth, drive\n",
        "auth.authenticate_user()"
      ],
      "execution_count": null,
      "outputs": []
    },
    {
      "cell_type": "code",
      "metadata": {
        "id": "303PnOzSrLiQ"
      },
      "source": [
        "drive.mount('/content/gdrive')"
      ],
      "execution_count": null,
      "outputs": []
    },
    {
      "cell_type": "code",
      "metadata": {
        "id": "7qfVkr1MzXgu"
      },
      "source": [
        "# Potentially useful imports\n",
        "# Might not all be necessary for your purposes\n",
        "import numpy as np\n",
        "import pandas as pd\n",
        "import os \n",
        "import random\n",
        "import sklearn\n",
        "from pathlib import Path\n",
        "from google.cloud import bigquery\n",
        "import matplotlib.pyplot as plt\n",
        "\n",
        "# Add random seeds\n",
        "random.seed(456)\n",
        "np.random.seed(456)\n"
      ],
      "execution_count": null,
      "outputs": []
    },
    {
      "cell_type": "markdown",
      "metadata": {
        "id": "ikMyBRbePqQh"
      },
      "source": [
        "If running locally, replace the next cell with code compatible with the postgres library you're using."
      ]
    },
    {
      "cell_type": "code",
      "metadata": {
        "id": "aPSWDfYV0HFk"
      },
      "source": [
        "# Change this to your own dummy project id from BigQuery\n",
        "# If running locally, replace this cell with code\n",
        "# compatible with the postgres library you're using\n",
        "project_id='CHANGE THIS'\n",
        "\n",
        "def run_query(query):\n",
        "    return pd.io.gbq.read_gbq(query, project_id=project_id, dialect=\"standard\")"
      ],
      "execution_count": null,
      "outputs": []
    },
    {
      "cell_type": "code",
      "metadata": {
        "id": "onc-ywX61-_U"
      },
      "source": [
        "query = \"\"\"\n",
        "YOUR QUERY HERE\n",
        "\"\"\"\n",
        "\n",
        "res = run_query(query)"
      ],
      "execution_count": null,
      "outputs": []
    },
    {
      "cell_type": "code",
      "metadata": {
        "id": "WAhtNEmJM5Tb"
      },
      "source": [
        "# Your code here!\n"
      ],
      "execution_count": null,
      "outputs": []
    }
  ]
}