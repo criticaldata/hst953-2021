{
  "nbformat": 4,
  "nbformat_minor": 0,
  "metadata": {
    "kernelspec": {
      "display_name": "Python 3 (ipykernel)",
      "language": "python",
      "name": "python3"
    },
    "language_info": {
      "codemirror_mode": {
        "name": "ipython",
        "version": 3
      },
      "file_extension": ".py",
      "mimetype": "text/x-python",
      "name": "python",
      "nbconvert_exporter": "python",
      "pygments_lexer": "ipython3",
      "version": "3.9.6"
    },
    "colab": {
      "name": "Copy of pset2_p3.ipynb",
      "private_outputs": true,
      "provenance": [],
      "collapsed_sections": []
    }
  },
  "cells": [
    {
      "cell_type": "code",
      "metadata": {
        "id": "Y_QVHv0wKTXj"
      },
      "source": [
        "# Install python requirements\n",
        "!pip3 install pandas\n",
        "!pip3 install numpy\n",
        "!pip3 install scikit-learn\n",
        "!pip3 install --upgrade tables\n",
        "!pip3 install MulticoreTSNE\n",
        "!pip3 install umap-learn"
      ],
      "execution_count": null,
      "outputs": []
    },
    {
      "cell_type": "code",
      "metadata": {
        "id": "a9j60f3KrfsG"
      },
      "source": [
        "from google.colab import auth, drive\n",
        "auth.authenticate_user()"
      ],
      "execution_count": null,
      "outputs": []
    },
    {
      "cell_type": "code",
      "metadata": {
        "id": "303PnOzSrLiQ"
      },
      "source": [
        "drive.mount('/content/gdrive')\n",
        "! cp /content/gdrive/MyDrive/hst953_hw1/run_classifier_dataset_utils.py ./"
      ],
      "execution_count": null,
      "outputs": []
    },
    {
      "cell_type": "markdown",
      "metadata": {
        "id": "ZgQbmrStHga7"
      },
      "source": [
        "Before proceeding, make sure you have downloaded the `cohort.h5` and the `embeddings.npy` files and uploaded them to the Google Drive directory `/content/gdrive/My Drive/hst953_hw2`"
      ]
    },
    {
      "cell_type": "code",
      "metadata": {
        "id": "7qfVkr1MzXgu"
      },
      "source": [
        "# Potentially useful imports\n",
        "# Might not all be necessary for your purposes\n",
        "import numpy as np\n",
        "import pandas as pd\n",
        "import os \n",
        "import random\n",
        "import sklearn\n",
        "import importlib\n",
        "import pickle\n",
        "import math\n",
        "import matplotlib.pyplot as plt\n",
        "\n",
        "from pathlib import Path\n",
        "from MulticoreTSNE import MulticoreTSNE as TSNE\n",
        "from sklearn.decomposition import PCA\n",
        "from umap import UMAP\n",
        "\n",
        "\n",
        "pd.set_option('display.max_columns', 50)\n",
        "pd.options.mode.chained_assignment = None\n",
        "\n",
        "# Path to saved data\n",
        "data_path = '/content/gdrive/My Drive/hst953_hw2'\n",
        "\n",
        "#add random seed\n",
        "random.seed(456)\n",
        "np.random.seed(456)\n"
      ],
      "execution_count": null,
      "outputs": []
    },
    {
      "cell_type": "code",
      "metadata": {
        "id": "pr655FuP-2RT"
      },
      "source": [
        "cohort = pd.read_hdf(os.path.join(data_path, 'cohort_sub.h5'))"
      ],
      "execution_count": null,
      "outputs": []
    },
    {
      "cell_type": "code",
      "metadata": {
        "id": "DAxt8Ohx-2RU"
      },
      "source": [
        "cohort.head()"
      ],
      "execution_count": null,
      "outputs": []
    },
    {
      "cell_type": "code",
      "metadata": {
        "id": "cMDg7Kgv-2RU"
      },
      "source": [
        "cohort.shape"
      ],
      "execution_count": null,
      "outputs": []
    },
    {
      "cell_type": "code",
      "metadata": {
        "id": "nzOuqB8pLGAZ"
      },
      "source": [
        "# Load the ClinicalBERT embeddings\n",
        "embeddings = np.load(os.path.join(data_path, 'embeddings.npy'))"
      ],
      "execution_count": null,
      "outputs": []
    },
    {
      "cell_type": "code",
      "metadata": {
        "id": "oVIIiQrcMKL4"
      },
      "source": [
        "# Your code here!"
      ],
      "execution_count": null,
      "outputs": []
    }
  ]
}