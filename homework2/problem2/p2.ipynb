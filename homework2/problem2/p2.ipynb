{
  "nbformat": 4,
  "nbformat_minor": 0,
  "metadata": {
    "colab": {
      "name": "pset2_p2.ipynb",
      "private_outputs": true,
      "provenance": [],
      "collapsed_sections": []
    },
    "kernelspec": {
      "name": "python3",
      "display_name": "Python 3"
    },
    "language_info": {
      "name": "python"
    }
  },
  "cells": [
    {
      "cell_type": "code",
      "metadata": {
        "id": "a9j60f3KrfsG"
      },
      "source": [
        "from google.colab import auth, drive\n",
        "auth.authenticate_user()"
      ],
      "execution_count": null,
      "outputs": []
    },
    {
      "cell_type": "code",
      "metadata": {
        "id": "303PnOzSrLiQ"
      },
      "source": [
        "drive.mount('/content/gdrive')"
      ],
      "execution_count": null,
      "outputs": []
    },
    {
      "cell_type": "code",
      "metadata": {
        "id": "7qfVkr1MzXgu"
      },
      "source": [
        "# Potentially useful imports\n",
        "# Might not all be necessary for your purposes\n",
        "import numpy as np\n",
        "import pandas as pd\n",
        "import os \n",
        "import random\n",
        "import sklearn\n",
        "from sklearn.linear_model import LogisticRegression\n",
        "from pathlib import Path\n",
        "from google.cloud import bigquery\n",
        "import matplotlib.pyplot as plt\n",
        "\n",
        "# Path to saved data\n",
        "mimic_dir = '/content/gdrive/My Drive/hst953_hw2/mimic_data'\n",
        "\n",
        "# Set random seeds\n",
        "random.seed(456)\n",
        "np.random.seed(456)\n"
      ],
      "execution_count": null,
      "outputs": []
    },
    {
      "cell_type": "markdown",
      "metadata": {
        "id": "dsVWRv1bNc3h"
      },
      "source": [
        "Before Running the next cell, make sure that ```adult_icu.gz``` is in the ```hst953_hw2/mimic_data``` directory in your Google Drive, or change ```mimic_dir``` to point to the directory containing that file."
      ]
    },
    {
      "cell_type": "code",
      "metadata": {
        "id": "zFCda2j23xOG"
      },
      "source": [
        "adult_icu = pd.read_csv(os.path.join(mimic_dir, \"adult_icu.gz\"), compression=\"gzip\")\n",
        "cols = ['subject_id', 'hadm_id', 'icustay_id', 'age', 'mort_icu',\n",
        "       'first_hosp_stay', 'first_icu_stay', 'adult_icu', 'eth_asian',\n",
        "       'eth_black', 'eth_hispanic', 'eth_other', 'eth_white',\n",
        "       'admType_ELECTIVE', 'admType_EMERGENCY', 'admType_NEWBORN',\n",
        "       'admType_URGENT', 'HeartRate_Min', 'HeartRate_Max', 'HeartRate_Mean',\n",
        "       'SysBP_Min', 'SysBP_Max', 'SysBP_Mean', 'DiasBP_Min', 'DiasBP_Max',\n",
        "       'DiasBP_Mean', 'MeanBP_Min', 'MeanBP_Max', 'MeanBP_Mean',\n",
        "       'RespRate_Min', 'RespRate_Max', 'RespRate_Mean', 'TempC_Min',\n",
        "       'TempC_Max', 'TempC_Mean', 'SpO2_Min', 'SpO2_Max', 'SpO2_Mean',\n",
        "       'Glucose_Min', 'Glucose_Max', 'Glucose_Mean', 'ANIONGAP', 'ALBUMIN',\n",
        "       'BICARBONATE', 'BILIRUBIN', 'CREATININE', 'CHLORIDE', 'GLUCOSE',\n",
        "       'HEMATOCRIT', 'HEMOGLOBIN', 'LACTATE', 'MAGNESIUM', 'PHOSPHATE',\n",
        "       'PLATELET', 'POTASSIUM', 'PTT', 'INR', 'PT', 'SODIUM', 'BUN', 'WBC',\n",
        "       'train']\n",
        "\n",
        "features = ['age', 'first_hosp_stay', 'first_icu_stay', 'adult_icu', 'eth_asian',\n",
        "       'eth_black', 'eth_hispanic', 'eth_other', 'eth_white',\n",
        "       'admType_ELECTIVE', 'admType_EMERGENCY', 'admType_NEWBORN',\n",
        "       'admType_URGENT', 'HeartRate_Min', 'HeartRate_Max', 'HeartRate_Mean',\n",
        "       'SysBP_Min', 'SysBP_Max', 'SysBP_Mean', 'DiasBP_Min', 'DiasBP_Max',\n",
        "       'DiasBP_Mean', 'MeanBP_Min', 'MeanBP_Max', 'MeanBP_Mean',\n",
        "       'RespRate_Min', 'RespRate_Max', 'RespRate_Mean', 'TempC_Min',\n",
        "       'TempC_Max', 'TempC_Mean', 'SpO2_Min', 'SpO2_Max', 'SpO2_Mean',\n",
        "       'Glucose_Min', 'Glucose_Max', 'Glucose_Mean', 'ANIONGAP', 'ALBUMIN',\n",
        "       'BICARBONATE', 'BILIRUBIN', 'CREATININE', 'CHLORIDE', 'GLUCOSE',\n",
        "       'HEMATOCRIT', 'HEMOGLOBIN', 'LACTATE', 'MAGNESIUM', 'PHOSPHATE',\n",
        "       'PLATELET', 'POTASSIUM', 'PTT', 'INR', 'PT', 'SODIUM', 'BUN', 'WBC'] \n",
        "\n",
        "# Split the data into train and test splits\n",
        "train_split = adult_icu[adult_icu[\"train\"] == 1]\n",
        "test_split = adult_icu[adult_icu[\"train\"] == 0]\n",
        "\n",
        "train_features = train_split[features]\n",
        "test_features = test_split[features]\n",
        "\n",
        "train_targets = train_split[\"mort_icu\"]\n",
        "test_targets = test_split[\"mort_icu\"]\n",
        "\n",
        "# Fit the model to the training data\n",
        "model = sklearn.linear_model.LogisticRegression(solver=\"lbfgs\", max_iter=10000)\n",
        "model.fit(train_features, train_targets)\n"
      ],
      "execution_count": null,
      "outputs": []
    },
    {
      "cell_type": "code",
      "metadata": {
        "id": "mhViD52SPl56"
      },
      "source": [
        "# Your code here!\n"
      ],
      "execution_count": null,
      "outputs": []
    }
  ]
}